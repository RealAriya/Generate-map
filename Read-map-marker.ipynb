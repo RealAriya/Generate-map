{
 "cells": [
  {
   "cell_type": "code",
   "execution_count": 1,
   "id": "1ab3837d-cafc-4f4e-a4a7-2d578832afba",
   "metadata": {},
   "outputs": [],
   "source": [
    "import folium\n",
    "import pandas as pd"
   ]
  },
  {
   "cell_type": "code",
   "execution_count": 2,
   "id": "9f2c4a8d-3b3c-4395-8046-6d2cd036fc7e",
   "metadata": {},
   "outputs": [],
   "source": [
    "waterfalls = pd.read_csv(\"waterfall.csv\")"
   ]
  },
  {
   "cell_type": "code",
   "execution_count": 7,
   "id": "0b2028a0-2a84-4624-b90b-7256ce90c523",
   "metadata": {},
   "outputs": [],
   "source": [
    "mean_loc = [waterfalls[\"Latitude\"].mean() , waterfalls[\"Longitude\"].mean()]"
   ]
  }
 ],
 "metadata": {
  "kernelspec": {
   "display_name": "Python 3 (ipykernel)",
   "language": "python",
   "name": "python3"
  },
  "language_info": {
   "codemirror_mode": {
    "name": "ipython",
    "version": 3
   },
   "file_extension": ".py",
   "mimetype": "text/x-python",
   "name": "python",
   "nbconvert_exporter": "python",
   "pygments_lexer": "ipython3",
   "version": "3.12.3"
  }
 },
 "nbformat": 4,
 "nbformat_minor": 5
}
