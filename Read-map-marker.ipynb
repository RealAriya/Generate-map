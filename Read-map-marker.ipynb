{
 "cells": [
  {
   "cell_type": "code",
   "execution_count": 18,
   "id": "1ab3837d-cafc-4f4e-a4a7-2d578832afba",
   "metadata": {},
   "outputs": [],
   "source": [
    "import folium\n",
    "import pandas as pd"
   ]
  },
  {
   "cell_type": "code",
   "execution_count": 19,
   "id": "9f2c4a8d-3b3c-4395-8046-6d2cd036fc7e",
   "metadata": {},
   "outputs": [],
   "source": [
    "waterfalls = pd.read_csv(\"waterfall.csv\")"
   ]
  },
  {
   "cell_type": "code",
   "execution_count": 20,
   "id": "0b2028a0-2a84-4624-b90b-7256ce90c523",
   "metadata": {},
   "outputs": [],
   "source": [
    "mean_loc = [waterfalls[\"Latitude\"].mean() , waterfalls[\"Longitude\"].mean()]"
   ]
  },
  {
   "cell_type": "code",
   "execution_count": 21,
   "id": "6f7df62e-50d0-4f2b-97d0-9670ed8aea4d",
   "metadata": {},
   "outputs": [],
   "source": [
    "mymap = folium.Map(location= mean_loc , zoom_start=6)\n",
    "\n",
    "# Create a feature group for waterfalls\n",
    "water_falls = folium.FeatureGroup(name='Water_falls')"
   ]
  },
  {
   "cell_type": "code",
   "execution_count": 22,
   "id": "6d18ac21-6f56-4ba1-9168-a1d2fad08064",
   "metadata": {},
   "outputs": [],
   "source": [
    "# Add markers\n",
    "for index, row in waterfalls.iterrows():\n",
    "    if row['Height (meters)'] < 20:\n",
    "        icon_color = \"green\"\n",
    "    elif  20 <=row['Height (meters)'] <= 50:\n",
    "        icon_color = \"orange\"\n",
    "    else:\n",
    "        icon_color = \"blue\"\n",
    "\n",
    "     # Custom HTML content for the iframe\n",
    "    html = f\"\"\"\n",
    "    <h3>{row['Name']}</h3>\n",
    "    <p>Height: {row['Height (meters)']} meters</p>\n",
    "    <p>State: {row['State']}</p>\n",
    "    <a href=\"https://www.google.com/search?q={row['Name']}\">Read More</a>\n",
    "    \"\"\"\n",
    "\n",
    "    # Create an iframe with the custom HTML content\n",
    "    iframe = folium.IFrame(html=html, width=300, height=100)\n",
    "\n",
    "    # Create a popup with the iframe\n",
    "    popup = folium.Popup(iframe, max_width=300)\n",
    "\n",
    "    \n",
    "    folium.Marker(\n",
    "        location = [row['Latitude'], row['Longitude']],\n",
    "        popup = popup,\n",
    "        tooltip = row['Name'],\n",
    "        icon=folium.Icon(color=icon_color)\n",
    ").add_to(mymap)\n",
    "\n",
    "# Add the waterfalls feature group to the map\n",
    "water_falls.add_to(mymap)\n",
    "\n",
    "mymap.save('waterfalls_map.html')"
   ]
  },
  {
   "cell_type": "code",
   "execution_count": 23,
   "id": "166d9b92-1e23-4310-96b7-d16b293133df",
   "metadata": {
    "scrolled": true
   },
   "outputs": [
    {
     "data": {
      "text/plain": [
       "<folium.features.GeoJson at 0x7c5e8900deb0>"
      ]
     },
     "execution_count": 23,
     "metadata": {},
     "output_type": "execute_result"
    }
   ],
   "source": [
    "# Add boarders\n",
    "geojson_file = 'borders.geo.json' \n",
    "\n",
    "# Define the style for the GeoJSON borders\n",
    "borders_style = {\n",
    "    'color': 'black',\n",
    "    'weight': 2,\n",
    "    'fillColor': 'transparent',\n",
    "    'fillOpacity': 0.2\n",
    "}\n",
    "\n",
    "folium.GeoJson(\n",
    "    geojson_file,\n",
    "    name = 'Borders',\n",
    "    style_function = lambda x: borders_style\n",
    "               \n",
    ").add_to(mymap)"
   ]
  },
  {
   "cell_type": "code",
   "execution_count": 24,
   "id": "eaeb308f-bceb-401c-a988-e6f06b5992ad",
   "metadata": {},
   "outputs": [],
   "source": [
    "# Add LayerControl to the mymap\n",
    "folium.LayerControl().add_to(mymap)\n",
    "\n",
    "mymap.save('w_bordrs_map.html')"
   ]
  }
 ],
 "metadata": {
  "kernelspec": {
   "display_name": "Python 3 (ipykernel)",
   "language": "python",
   "name": "python3"
  },
  "language_info": {
   "codemirror_mode": {
    "name": "ipython",
    "version": 3
   },
   "file_extension": ".py",
   "mimetype": "text/x-python",
   "name": "python",
   "nbconvert_exporter": "python",
   "pygments_lexer": "ipython3",
   "version": "3.12.3"
  }
 },
 "nbformat": 4,
 "nbformat_minor": 5
}
